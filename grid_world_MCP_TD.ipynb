{
  "nbformat": 4,
  "nbformat_minor": 0,
  "metadata": {
    "colab": {
      "name": "grid_world_MCP_TD",
      "provenance": [],
      "collapsed_sections": [],
      "authorship_tag": "ABX9TyNCjmj2GTkc4+kCqA/LdBZX",
      "include_colab_link": true
    },
    "kernelspec": {
      "name": "python3",
      "display_name": "Python 3"
    },
    "language_info": {
      "name": "python"
    },
    "widgets": {
      "application/vnd.jupyter.widget-state+json": {
        "e5a7b5cd96ff489cbb4272dbdafe0b95": {
          "model_module": "@jupyter-widgets/controls",
          "model_name": "HBoxModel",
          "state": {
            "_view_name": "HBoxView",
            "_dom_classes": [],
            "_model_name": "HBoxModel",
            "_view_module": "@jupyter-widgets/controls",
            "_model_module_version": "1.5.0",
            "_view_count": null,
            "_view_module_version": "1.5.0",
            "box_style": "",
            "layout": "IPY_MODEL_fd11849b89cf4dc7a5dbe1d80f3475dd",
            "_model_module": "@jupyter-widgets/controls",
            "children": [
              "IPY_MODEL_edf7d600407841a0b30c62729031c9e6",
              "IPY_MODEL_5f6bffb8b3d6486cb57864bd12509389"
            ]
          }
        },
        "fd11849b89cf4dc7a5dbe1d80f3475dd": {
          "model_module": "@jupyter-widgets/base",
          "model_name": "LayoutModel",
          "state": {
            "_view_name": "LayoutView",
            "grid_template_rows": null,
            "right": null,
            "justify_content": null,
            "_view_module": "@jupyter-widgets/base",
            "overflow": null,
            "_model_module_version": "1.2.0",
            "_view_count": null,
            "flex_flow": null,
            "width": null,
            "min_width": null,
            "border": null,
            "align_items": null,
            "bottom": null,
            "_model_module": "@jupyter-widgets/base",
            "top": null,
            "grid_column": null,
            "overflow_y": null,
            "overflow_x": null,
            "grid_auto_flow": null,
            "grid_area": null,
            "grid_template_columns": null,
            "flex": null,
            "_model_name": "LayoutModel",
            "justify_items": null,
            "grid_row": null,
            "max_height": null,
            "align_content": null,
            "visibility": null,
            "align_self": null,
            "height": null,
            "min_height": null,
            "padding": null,
            "grid_auto_rows": null,
            "grid_gap": null,
            "max_width": null,
            "order": null,
            "_view_module_version": "1.2.0",
            "grid_template_areas": null,
            "object_position": null,
            "object_fit": null,
            "grid_auto_columns": null,
            "margin": null,
            "display": null,
            "left": null
          }
        },
        "edf7d600407841a0b30c62729031c9e6": {
          "model_module": "@jupyter-widgets/controls",
          "model_name": "FloatProgressModel",
          "state": {
            "_view_name": "ProgressView",
            "style": "IPY_MODEL_3a47d62f596a4b4daaaaff7f244c0801",
            "_dom_classes": [],
            "description": "100%",
            "_model_name": "FloatProgressModel",
            "bar_style": "success",
            "max": 10000,
            "_view_module": "@jupyter-widgets/controls",
            "_model_module_version": "1.5.0",
            "value": 10000,
            "_view_count": null,
            "_view_module_version": "1.5.0",
            "orientation": "horizontal",
            "min": 0,
            "description_tooltip": null,
            "_model_module": "@jupyter-widgets/controls",
            "layout": "IPY_MODEL_d588f42ad95547ce901d07bbf39595cc"
          }
        },
        "5f6bffb8b3d6486cb57864bd12509389": {
          "model_module": "@jupyter-widgets/controls",
          "model_name": "HTMLModel",
          "state": {
            "_view_name": "HTMLView",
            "style": "IPY_MODEL_3e72c2ca6a0846f7ad282cdcbd6082d5",
            "_dom_classes": [],
            "description": "",
            "_model_name": "HTMLModel",
            "placeholder": "​",
            "_view_module": "@jupyter-widgets/controls",
            "_model_module_version": "1.5.0",
            "value": " 10000/10000 [00:08&lt;00:00, 1142.39it/s]",
            "_view_count": null,
            "_view_module_version": "1.5.0",
            "description_tooltip": null,
            "_model_module": "@jupyter-widgets/controls",
            "layout": "IPY_MODEL_79e5001bc03e4b4fa0fe90c4f072a14f"
          }
        },
        "3a47d62f596a4b4daaaaff7f244c0801": {
          "model_module": "@jupyter-widgets/controls",
          "model_name": "ProgressStyleModel",
          "state": {
            "_view_name": "StyleView",
            "_model_name": "ProgressStyleModel",
            "description_width": "initial",
            "_view_module": "@jupyter-widgets/base",
            "_model_module_version": "1.5.0",
            "_view_count": null,
            "_view_module_version": "1.2.0",
            "bar_color": null,
            "_model_module": "@jupyter-widgets/controls"
          }
        },
        "d588f42ad95547ce901d07bbf39595cc": {
          "model_module": "@jupyter-widgets/base",
          "model_name": "LayoutModel",
          "state": {
            "_view_name": "LayoutView",
            "grid_template_rows": null,
            "right": null,
            "justify_content": null,
            "_view_module": "@jupyter-widgets/base",
            "overflow": null,
            "_model_module_version": "1.2.0",
            "_view_count": null,
            "flex_flow": null,
            "width": null,
            "min_width": null,
            "border": null,
            "align_items": null,
            "bottom": null,
            "_model_module": "@jupyter-widgets/base",
            "top": null,
            "grid_column": null,
            "overflow_y": null,
            "overflow_x": null,
            "grid_auto_flow": null,
            "grid_area": null,
            "grid_template_columns": null,
            "flex": null,
            "_model_name": "LayoutModel",
            "justify_items": null,
            "grid_row": null,
            "max_height": null,
            "align_content": null,
            "visibility": null,
            "align_self": null,
            "height": null,
            "min_height": null,
            "padding": null,
            "grid_auto_rows": null,
            "grid_gap": null,
            "max_width": null,
            "order": null,
            "_view_module_version": "1.2.0",
            "grid_template_areas": null,
            "object_position": null,
            "object_fit": null,
            "grid_auto_columns": null,
            "margin": null,
            "display": null,
            "left": null
          }
        },
        "3e72c2ca6a0846f7ad282cdcbd6082d5": {
          "model_module": "@jupyter-widgets/controls",
          "model_name": "DescriptionStyleModel",
          "state": {
            "_view_name": "StyleView",
            "_model_name": "DescriptionStyleModel",
            "description_width": "",
            "_view_module": "@jupyter-widgets/base",
            "_model_module_version": "1.5.0",
            "_view_count": null,
            "_view_module_version": "1.2.0",
            "_model_module": "@jupyter-widgets/controls"
          }
        },
        "79e5001bc03e4b4fa0fe90c4f072a14f": {
          "model_module": "@jupyter-widgets/base",
          "model_name": "LayoutModel",
          "state": {
            "_view_name": "LayoutView",
            "grid_template_rows": null,
            "right": null,
            "justify_content": null,
            "_view_module": "@jupyter-widgets/base",
            "overflow": null,
            "_model_module_version": "1.2.0",
            "_view_count": null,
            "flex_flow": null,
            "width": null,
            "min_width": null,
            "border": null,
            "align_items": null,
            "bottom": null,
            "_model_module": "@jupyter-widgets/base",
            "top": null,
            "grid_column": null,
            "overflow_y": null,
            "overflow_x": null,
            "grid_auto_flow": null,
            "grid_area": null,
            "grid_template_columns": null,
            "flex": null,
            "_model_name": "LayoutModel",
            "justify_items": null,
            "grid_row": null,
            "max_height": null,
            "align_content": null,
            "visibility": null,
            "align_self": null,
            "height": null,
            "min_height": null,
            "padding": null,
            "grid_auto_rows": null,
            "grid_gap": null,
            "max_width": null,
            "order": null,
            "_view_module_version": "1.2.0",
            "grid_template_areas": null,
            "object_position": null,
            "object_fit": null,
            "grid_auto_columns": null,
            "margin": null,
            "display": null,
            "left": null
          }
        },
        "3d10279d01fc48a188d916b1b21f1842": {
          "model_module": "@jupyter-widgets/controls",
          "model_name": "HBoxModel",
          "state": {
            "_view_name": "HBoxView",
            "_dom_classes": [],
            "_model_name": "HBoxModel",
            "_view_module": "@jupyter-widgets/controls",
            "_model_module_version": "1.5.0",
            "_view_count": null,
            "_view_module_version": "1.5.0",
            "box_style": "",
            "layout": "IPY_MODEL_dd16c7c003d24053ba818e5df95cfd12",
            "_model_module": "@jupyter-widgets/controls",
            "children": [
              "IPY_MODEL_803cc92b8e7f49a982f6b8313f368a82",
              "IPY_MODEL_f1fbb9bfb4da4752b4ce8f89de87e17d"
            ]
          }
        },
        "dd16c7c003d24053ba818e5df95cfd12": {
          "model_module": "@jupyter-widgets/base",
          "model_name": "LayoutModel",
          "state": {
            "_view_name": "LayoutView",
            "grid_template_rows": null,
            "right": null,
            "justify_content": null,
            "_view_module": "@jupyter-widgets/base",
            "overflow": null,
            "_model_module_version": "1.2.0",
            "_view_count": null,
            "flex_flow": null,
            "width": null,
            "min_width": null,
            "border": null,
            "align_items": null,
            "bottom": null,
            "_model_module": "@jupyter-widgets/base",
            "top": null,
            "grid_column": null,
            "overflow_y": null,
            "overflow_x": null,
            "grid_auto_flow": null,
            "grid_area": null,
            "grid_template_columns": null,
            "flex": null,
            "_model_name": "LayoutModel",
            "justify_items": null,
            "grid_row": null,
            "max_height": null,
            "align_content": null,
            "visibility": null,
            "align_self": null,
            "height": null,
            "min_height": null,
            "padding": null,
            "grid_auto_rows": null,
            "grid_gap": null,
            "max_width": null,
            "order": null,
            "_view_module_version": "1.2.0",
            "grid_template_areas": null,
            "object_position": null,
            "object_fit": null,
            "grid_auto_columns": null,
            "margin": null,
            "display": null,
            "left": null
          }
        },
        "803cc92b8e7f49a982f6b8313f368a82": {
          "model_module": "@jupyter-widgets/controls",
          "model_name": "FloatProgressModel",
          "state": {
            "_view_name": "ProgressView",
            "style": "IPY_MODEL_38e4305216d74d72b1242c645a5c0df6",
            "_dom_classes": [],
            "description": "100%",
            "_model_name": "FloatProgressModel",
            "bar_style": "success",
            "max": 10000,
            "_view_module": "@jupyter-widgets/controls",
            "_model_module_version": "1.5.0",
            "value": 10000,
            "_view_count": null,
            "_view_module_version": "1.5.0",
            "orientation": "horizontal",
            "min": 0,
            "description_tooltip": null,
            "_model_module": "@jupyter-widgets/controls",
            "layout": "IPY_MODEL_fb8337a37c9b444780fa849e5da8cf54"
          }
        },
        "f1fbb9bfb4da4752b4ce8f89de87e17d": {
          "model_module": "@jupyter-widgets/controls",
          "model_name": "HTMLModel",
          "state": {
            "_view_name": "HTMLView",
            "style": "IPY_MODEL_0ee69645f4a746f7a83c87c4efef1eca",
            "_dom_classes": [],
            "description": "",
            "_model_name": "HTMLModel",
            "placeholder": "​",
            "_view_module": "@jupyter-widgets/controls",
            "_model_module_version": "1.5.0",
            "value": " 10000/10000 [00:19&lt;00:00, 518.47it/s]",
            "_view_count": null,
            "_view_module_version": "1.5.0",
            "description_tooltip": null,
            "_model_module": "@jupyter-widgets/controls",
            "layout": "IPY_MODEL_ed7be3adee0945e1a8c4e54ce6b907a3"
          }
        },
        "38e4305216d74d72b1242c645a5c0df6": {
          "model_module": "@jupyter-widgets/controls",
          "model_name": "ProgressStyleModel",
          "state": {
            "_view_name": "StyleView",
            "_model_name": "ProgressStyleModel",
            "description_width": "initial",
            "_view_module": "@jupyter-widgets/base",
            "_model_module_version": "1.5.0",
            "_view_count": null,
            "_view_module_version": "1.2.0",
            "bar_color": null,
            "_model_module": "@jupyter-widgets/controls"
          }
        },
        "fb8337a37c9b444780fa849e5da8cf54": {
          "model_module": "@jupyter-widgets/base",
          "model_name": "LayoutModel",
          "state": {
            "_view_name": "LayoutView",
            "grid_template_rows": null,
            "right": null,
            "justify_content": null,
            "_view_module": "@jupyter-widgets/base",
            "overflow": null,
            "_model_module_version": "1.2.0",
            "_view_count": null,
            "flex_flow": null,
            "width": null,
            "min_width": null,
            "border": null,
            "align_items": null,
            "bottom": null,
            "_model_module": "@jupyter-widgets/base",
            "top": null,
            "grid_column": null,
            "overflow_y": null,
            "overflow_x": null,
            "grid_auto_flow": null,
            "grid_area": null,
            "grid_template_columns": null,
            "flex": null,
            "_model_name": "LayoutModel",
            "justify_items": null,
            "grid_row": null,
            "max_height": null,
            "align_content": null,
            "visibility": null,
            "align_self": null,
            "height": null,
            "min_height": null,
            "padding": null,
            "grid_auto_rows": null,
            "grid_gap": null,
            "max_width": null,
            "order": null,
            "_view_module_version": "1.2.0",
            "grid_template_areas": null,
            "object_position": null,
            "object_fit": null,
            "grid_auto_columns": null,
            "margin": null,
            "display": null,
            "left": null
          }
        },
        "0ee69645f4a746f7a83c87c4efef1eca": {
          "model_module": "@jupyter-widgets/controls",
          "model_name": "DescriptionStyleModel",
          "state": {
            "_view_name": "StyleView",
            "_model_name": "DescriptionStyleModel",
            "description_width": "",
            "_view_module": "@jupyter-widgets/base",
            "_model_module_version": "1.5.0",
            "_view_count": null,
            "_view_module_version": "1.2.0",
            "_model_module": "@jupyter-widgets/controls"
          }
        },
        "ed7be3adee0945e1a8c4e54ce6b907a3": {
          "model_module": "@jupyter-widgets/base",
          "model_name": "LayoutModel",
          "state": {
            "_view_name": "LayoutView",
            "grid_template_rows": null,
            "right": null,
            "justify_content": null,
            "_view_module": "@jupyter-widgets/base",
            "overflow": null,
            "_model_module_version": "1.2.0",
            "_view_count": null,
            "flex_flow": null,
            "width": null,
            "min_width": null,
            "border": null,
            "align_items": null,
            "bottom": null,
            "_model_module": "@jupyter-widgets/base",
            "top": null,
            "grid_column": null,
            "overflow_y": null,
            "overflow_x": null,
            "grid_auto_flow": null,
            "grid_area": null,
            "grid_template_columns": null,
            "flex": null,
            "_model_name": "LayoutModel",
            "justify_items": null,
            "grid_row": null,
            "max_height": null,
            "align_content": null,
            "visibility": null,
            "align_self": null,
            "height": null,
            "min_height": null,
            "padding": null,
            "grid_auto_rows": null,
            "grid_gap": null,
            "max_width": null,
            "order": null,
            "_view_module_version": "1.2.0",
            "grid_template_areas": null,
            "object_position": null,
            "object_fit": null,
            "grid_auto_columns": null,
            "margin": null,
            "display": null,
            "left": null
          }
        },
        "cda1afc2d09e4993ba1ef767d7a4f7fc": {
          "model_module": "@jupyter-widgets/controls",
          "model_name": "HBoxModel",
          "state": {
            "_view_name": "HBoxView",
            "_dom_classes": [],
            "_model_name": "HBoxModel",
            "_view_module": "@jupyter-widgets/controls",
            "_model_module_version": "1.5.0",
            "_view_count": null,
            "_view_module_version": "1.5.0",
            "box_style": "",
            "layout": "IPY_MODEL_fc2b76216d864695a5889e7ee6c08032",
            "_model_module": "@jupyter-widgets/controls",
            "children": [
              "IPY_MODEL_55a8d765f9644e14bea464ce4dfdbb9d",
              "IPY_MODEL_bdf72a692ffa4b3783bab19e96a4d03f"
            ]
          }
        },
        "fc2b76216d864695a5889e7ee6c08032": {
          "model_module": "@jupyter-widgets/base",
          "model_name": "LayoutModel",
          "state": {
            "_view_name": "LayoutView",
            "grid_template_rows": null,
            "right": null,
            "justify_content": null,
            "_view_module": "@jupyter-widgets/base",
            "overflow": null,
            "_model_module_version": "1.2.0",
            "_view_count": null,
            "flex_flow": null,
            "width": null,
            "min_width": null,
            "border": null,
            "align_items": null,
            "bottom": null,
            "_model_module": "@jupyter-widgets/base",
            "top": null,
            "grid_column": null,
            "overflow_y": null,
            "overflow_x": null,
            "grid_auto_flow": null,
            "grid_area": null,
            "grid_template_columns": null,
            "flex": null,
            "_model_name": "LayoutModel",
            "justify_items": null,
            "grid_row": null,
            "max_height": null,
            "align_content": null,
            "visibility": null,
            "align_self": null,
            "height": null,
            "min_height": null,
            "padding": null,
            "grid_auto_rows": null,
            "grid_gap": null,
            "max_width": null,
            "order": null,
            "_view_module_version": "1.2.0",
            "grid_template_areas": null,
            "object_position": null,
            "object_fit": null,
            "grid_auto_columns": null,
            "margin": null,
            "display": null,
            "left": null
          }
        },
        "55a8d765f9644e14bea464ce4dfdbb9d": {
          "model_module": "@jupyter-widgets/controls",
          "model_name": "FloatProgressModel",
          "state": {
            "_view_name": "ProgressView",
            "style": "IPY_MODEL_1468af830df5467288f05d91259d1cb9",
            "_dom_classes": [],
            "description": "100%",
            "_model_name": "FloatProgressModel",
            "bar_style": "success",
            "max": 10000,
            "_view_module": "@jupyter-widgets/controls",
            "_model_module_version": "1.5.0",
            "value": 10000,
            "_view_count": null,
            "_view_module_version": "1.5.0",
            "orientation": "horizontal",
            "min": 0,
            "description_tooltip": null,
            "_model_module": "@jupyter-widgets/controls",
            "layout": "IPY_MODEL_605ecd4fbf5f41b2b6270387ef426bfa"
          }
        },
        "bdf72a692ffa4b3783bab19e96a4d03f": {
          "model_module": "@jupyter-widgets/controls",
          "model_name": "HTMLModel",
          "state": {
            "_view_name": "HTMLView",
            "style": "IPY_MODEL_5daa7eb3b70544679ee29650d6d363b4",
            "_dom_classes": [],
            "description": "",
            "_model_name": "HTMLModel",
            "placeholder": "​",
            "_view_module": "@jupyter-widgets/controls",
            "_model_module_version": "1.5.0",
            "value": " 10000/10000 [00:06&lt;00:00, 1555.71it/s]",
            "_view_count": null,
            "_view_module_version": "1.5.0",
            "description_tooltip": null,
            "_model_module": "@jupyter-widgets/controls",
            "layout": "IPY_MODEL_f3d8598e9e8649968a4da0c7c500d600"
          }
        },
        "1468af830df5467288f05d91259d1cb9": {
          "model_module": "@jupyter-widgets/controls",
          "model_name": "ProgressStyleModel",
          "state": {
            "_view_name": "StyleView",
            "_model_name": "ProgressStyleModel",
            "description_width": "initial",
            "_view_module": "@jupyter-widgets/base",
            "_model_module_version": "1.5.0",
            "_view_count": null,
            "_view_module_version": "1.2.0",
            "bar_color": null,
            "_model_module": "@jupyter-widgets/controls"
          }
        },
        "605ecd4fbf5f41b2b6270387ef426bfa": {
          "model_module": "@jupyter-widgets/base",
          "model_name": "LayoutModel",
          "state": {
            "_view_name": "LayoutView",
            "grid_template_rows": null,
            "right": null,
            "justify_content": null,
            "_view_module": "@jupyter-widgets/base",
            "overflow": null,
            "_model_module_version": "1.2.0",
            "_view_count": null,
            "flex_flow": null,
            "width": null,
            "min_width": null,
            "border": null,
            "align_items": null,
            "bottom": null,
            "_model_module": "@jupyter-widgets/base",
            "top": null,
            "grid_column": null,
            "overflow_y": null,
            "overflow_x": null,
            "grid_auto_flow": null,
            "grid_area": null,
            "grid_template_columns": null,
            "flex": null,
            "_model_name": "LayoutModel",
            "justify_items": null,
            "grid_row": null,
            "max_height": null,
            "align_content": null,
            "visibility": null,
            "align_self": null,
            "height": null,
            "min_height": null,
            "padding": null,
            "grid_auto_rows": null,
            "grid_gap": null,
            "max_width": null,
            "order": null,
            "_view_module_version": "1.2.0",
            "grid_template_areas": null,
            "object_position": null,
            "object_fit": null,
            "grid_auto_columns": null,
            "margin": null,
            "display": null,
            "left": null
          }
        },
        "5daa7eb3b70544679ee29650d6d363b4": {
          "model_module": "@jupyter-widgets/controls",
          "model_name": "DescriptionStyleModel",
          "state": {
            "_view_name": "StyleView",
            "_model_name": "DescriptionStyleModel",
            "description_width": "",
            "_view_module": "@jupyter-widgets/base",
            "_model_module_version": "1.5.0",
            "_view_count": null,
            "_view_module_version": "1.2.0",
            "_model_module": "@jupyter-widgets/controls"
          }
        },
        "f3d8598e9e8649968a4da0c7c500d600": {
          "model_module": "@jupyter-widgets/base",
          "model_name": "LayoutModel",
          "state": {
            "_view_name": "LayoutView",
            "grid_template_rows": null,
            "right": null,
            "justify_content": null,
            "_view_module": "@jupyter-widgets/base",
            "overflow": null,
            "_model_module_version": "1.2.0",
            "_view_count": null,
            "flex_flow": null,
            "width": null,
            "min_width": null,
            "border": null,
            "align_items": null,
            "bottom": null,
            "_model_module": "@jupyter-widgets/base",
            "top": null,
            "grid_column": null,
            "overflow_y": null,
            "overflow_x": null,
            "grid_auto_flow": null,
            "grid_area": null,
            "grid_template_columns": null,
            "flex": null,
            "_model_name": "LayoutModel",
            "justify_items": null,
            "grid_row": null,
            "max_height": null,
            "align_content": null,
            "visibility": null,
            "align_self": null,
            "height": null,
            "min_height": null,
            "padding": null,
            "grid_auto_rows": null,
            "grid_gap": null,
            "max_width": null,
            "order": null,
            "_view_module_version": "1.2.0",
            "grid_template_areas": null,
            "object_position": null,
            "object_fit": null,
            "grid_auto_columns": null,
            "margin": null,
            "display": null,
            "left": null
          }
        }
      }
    }
  },
  "cells": [
    {
      "cell_type": "markdown",
      "metadata": {
        "id": "view-in-github",
        "colab_type": "text"
      },
      "source": [
        "<a href=\"https://colab.research.google.com/github/sktoyo/miscellaneous_codes/blob/master/grid_world_MCP_TD.ipynb\" target=\"_parent\"><img src=\"https://colab.research.google.com/assets/colab-badge.svg\" alt=\"Open In Colab\"/></a>"
      ]
    },
    {
      "cell_type": "code",
      "metadata": {
        "id": "E0_LqzFKxRZI"
      },
      "source": [
        "import random\n",
        "import numpy as np\n",
        "from itertools import product\n",
        "from tqdm.notebook import tqdm"
      ],
      "execution_count": null,
      "outputs": []
    },
    {
      "cell_type": "code",
      "metadata": {
        "id": "QNFxc6-qxltJ"
      },
      "source": [
        "class GridWorld():\n",
        "  def __init__(self, grid_x, grid_y, block_list):\n",
        "    self.x_lim = grid_x\n",
        "    self.y_lim = grid_y\n",
        "    self.block_list = block_list\n",
        "    self.x = 0\n",
        "    self.y = 0\n",
        "    \n",
        "  def step(self, a):\n",
        "    # 4: left, 6: right, 8:up, 2:down\n",
        "    if a == 4:\n",
        "      self.move_left()\n",
        "    elif a== 6:\n",
        "      self.move_right()\n",
        "    elif a== 8:\n",
        "      self.move_up()\n",
        "    elif a== 2:\n",
        "      self.move_down()\n",
        "    \n",
        "    reward = -1 # 보상은 늘 -1\n",
        "    done = self.is_done()\n",
        "\n",
        "    return (self.x, self.y), reward, done\n",
        "\n",
        "  def move_left(self):\n",
        "    if self.x <= 0 or [self.x - 1, self.y] in self.block_list:\n",
        "      pass\n",
        "    else:\n",
        "      self.x -= 1\n",
        "  \n",
        "  def move_right(self):\n",
        "    if self.x >= self.x_lim - 1 or [self.x + 1, self.y] in self.block_list:\n",
        "      pass\n",
        "    else:\n",
        "      self.x += 1\n",
        "  \n",
        "  def move_up(self):\n",
        "    if self.y >= self.y_lim - 1 or [self.x, self.y + 1] in self.block_list:\n",
        "      pass\n",
        "    else:\n",
        "      self.y += 1\n",
        "  \n",
        "  def move_down(self):\n",
        "    if self.y <= 0 or [self.x, self.y - 1] in self.block_list:\n",
        "      pass\n",
        "    else:\n",
        "      self.y -= 1\n",
        "\n",
        "  def is_done(self):\n",
        "    if self.x == self.x_lim - 1 and self.y == self.y_lim - 1:\n",
        "      return True\n",
        "    else:\n",
        "      return False\n",
        "\n",
        "  def get_state(self):\n",
        "    return (self.x, self.y)\n",
        "  \n",
        "  def reset(self):\n",
        "    self.x = 0\n",
        "    self.y = 0\n",
        "\n",
        "    return (self.x, self.y)\n",
        "\n",
        "class Agent():\n",
        "  def __init__(self):\n",
        "    pass\n",
        "\n",
        "  def select_action(self):\n",
        "    coin = random.random()\n",
        "    if coin < 0.25:\n",
        "      action = 4\n",
        "    elif coin < 0.5:\n",
        "      action = 6\n",
        "    elif coin < 0.75:\n",
        "      action = 8\n",
        "    else:\n",
        "      action = 2\n",
        "\n",
        "    return action\n",
        "\n",
        "\n",
        "class Qagent():\n",
        "  def __init__(self, grid_x, grid_y, action_counts, agent_type):\n",
        "    self.x_lim = grid_x\n",
        "    self.y_lim = grid_y\n",
        "    self.q_table = np.zeros((self.x_lim, self.y_lim, action_counts))\n",
        "    self.eps = 0.1\n",
        "    self.alpha = 0.1\n",
        "    self.gamma = 1\n",
        "    self.action_list = [2, 4, 6, 8]\n",
        "    self.agent_type = agent_type\n",
        "\n",
        "  def select_action(self, s):\n",
        "    x, y = s\n",
        "    coin = random.random()\n",
        "    if coin < self.eps:\n",
        "      action = random.choice(self.action_list)\n",
        "    else:\n",
        "      action_val = self.q_table[x,y,:]\n",
        "      if action_val.sum() == 0:        \n",
        "        action = random.choice(self.action_list)\n",
        "      else:\n",
        "        action = self.action_list[np.argmax(action_val)]\n",
        "        \n",
        "    return action\n",
        "  \n",
        "  def update_table(self, history):\n",
        "    cum_reward = 0\n",
        "    for transition in history[::-1]:\n",
        "      s, a, r, s_prime = transition\n",
        "      x, y = s\n",
        "      a = self.action_list.index(a)\n",
        "      if self.agent_type == \"mcc\": # MCC update method\n",
        "        self.q_table[x,y,a] = self.q_table[x,y,a] + self.alpha * (cum_reward - self.q_table[x,y,a])\n",
        "        cum_reward = r + self.gamma * cum_reward\n",
        "      elif self.agent_type == \"sarsa\": # SARSA update method      \n",
        "        x_prime, y_prime = s_prime\n",
        "        a_prime = self.select_action(s_prime)\n",
        "        a_prime = self.action_list.index(a_prime)\n",
        "        self.q_table[x,y,a] = self.q_table[x,y,a] + self.alpha * (r + self.gamma *  self.q_table[x_prime, y_prime, a_prime] - self.q_table[x, y, a])\n",
        "      elif self.agent_type == \"qlearning\": # Q-learning update method      \n",
        "        x_prime, y_prime = s_prime\n",
        "        self.q_table[x,y,a] = self.q_table[x,y,a] + self.alpha * (r + self.gamma *  np.amax(self.q_table[x_prime, y_prime, :]) - self.q_table[x, y, a])\n",
        "\n",
        "  def anneal_eps(self):\n",
        "    if self.agent_type == 'qlearning':\n",
        "      self.eps =  self.eps - 0.01\n",
        "      self.eps = max(self.eps, 0.2)\n",
        "    else:\n",
        "      self.eps =  self.eps - 0.03\n",
        "      self.eps = max(self.eps, 0.1)\n",
        "\n",
        "  def show_table(self):\n",
        "    q_list = self.q_table\n",
        "    data = np.zeros((self.x_lim, self.y_lim))\n",
        "    for x, y in product(np.arange(self.x_lim), np.arange(self.y_lim)):\n",
        "      action = self.action_list[np.argmax(q_list[x, y])]\n",
        "      data[x,y] = action\n",
        "    print(np.transpose(data)[::-1])\n",
        "    print(data)\n"
      ],
      "execution_count": null,
      "outputs": []
    },
    {
      "cell_type": "code",
      "metadata": {
        "id": "_XdusuTHs4h4"
      },
      "source": [
        "def MCP():\n",
        "  env = GridWorld()\n",
        "  agent = Agent()\n",
        "  data = [[0,0,0,0],[0,0,0,0],[0,0,0,0],[0,0,0,0]]\n",
        "  gamma = 1.0\n",
        "  alpha = 0.001\n",
        "\n",
        "  for k in range(50000):\n",
        "    done = False\n",
        "    history = []\n",
        "\n",
        "    while not done:\n",
        "      action = agent.select_action()\n",
        "      (x, y), reward, done = env.step(action)\n",
        "      history.append((x,y,reward))\n",
        "    env.reset()\n",
        "\n",
        "    cum_reward = 0\n",
        "    for transition in history[::-1]:\n",
        "      (x, y, reward) = transition\n",
        "      data[x][y] = data[x][y] + alpha * (cum_reward - data[x][y])\n",
        "      cum_reward = reward + gamma * cum_reward\n",
        "\n",
        "  for row in data:\n",
        "    print(row)\n",
        "\n",
        "def TD():\n",
        "  env = GridWorld()\n",
        "  agent = Agent()\n",
        "  data = [[0,0,0,0],[0,0,0,0],[0,0,0,0],[0,0,0,0]]\n",
        "  gamma = 1.0\n",
        "  alpha = 0.001\n",
        "\n",
        "  for k in range(50000):\n",
        "    done = False\n",
        "    history = []\n",
        "\n",
        "    while not done:\n",
        "      x, y = env.get_state()\n",
        "      action = agent.select_action()\n",
        "      (x_prime, y_prime), reward, done = env.step(action)\n",
        "      data[x][y] = data[x][y] + alpha * (reward + gamma * data[x_prime][y_prime] - data[x][y])\n",
        "      history.append((x,y,reward))\n",
        "    env.reset()\n",
        "\n",
        "  for row in data:\n",
        "    print(row)"
      ],
      "execution_count": null,
      "outputs": []
    },
    {
      "cell_type": "code",
      "metadata": {
        "id": "c6RTiNoG5Yxu"
      },
      "source": [
        "def MCC():\n",
        "  grid_x = 5\n",
        "  grid_y = 7\n",
        "  block_list = [[0,2], [1,2], [2,2], [2,4], [3,4], [4,4]]\n",
        "  env = GridWorld(grid_x, grid_y, block_list)\n",
        "  agent = Qagent(grid_x, grid_y, 4, 'mcc')\n",
        "\n",
        "  for i in tqdm(range(10000)):\n",
        "    done = False\n",
        "    history = []\n",
        "  \n",
        "    s = env.reset()\n",
        "    while not done:\n",
        "      a = agent.select_action(s)\n",
        "      s_prime, r, done = env.step(a)\n",
        "      history.append((s,a,r,s_prime))\n",
        "      s = s_prime\n",
        "    agent.update_table(history)\n",
        "    agent.anneal_eps()\n",
        "\n",
        "  agent.show_table()"
      ],
      "execution_count": null,
      "outputs": []
    },
    {
      "cell_type": "code",
      "metadata": {
        "colab": {
          "base_uri": "https://localhost:8080/",
          "height": 283,
          "referenced_widgets": [
            "e5a7b5cd96ff489cbb4272dbdafe0b95",
            "fd11849b89cf4dc7a5dbe1d80f3475dd",
            "edf7d600407841a0b30c62729031c9e6",
            "5f6bffb8b3d6486cb57864bd12509389",
            "3a47d62f596a4b4daaaaff7f244c0801",
            "d588f42ad95547ce901d07bbf39595cc",
            "3e72c2ca6a0846f7ad282cdcbd6082d5",
            "79e5001bc03e4b4fa0fe90c4f072a14f"
          ]
        },
        "id": "19vBo5_iemL3",
        "outputId": "59af7f9c-dd58-46c7-9127-30be8978078b"
      },
      "source": [
        "MCC()"
      ],
      "execution_count": null,
      "outputs": [
        {
          "output_type": "display_data",
          "data": {
            "application/vnd.jupyter.widget-view+json": {
              "model_id": "e5a7b5cd96ff489cbb4272dbdafe0b95",
              "version_minor": 0,
              "version_major": 2
            },
            "text/plain": [
              "HBox(children=(FloatProgress(value=0.0, max=10000.0), HTML(value='')))"
            ]
          },
          "metadata": {
            "tags": []
          }
        },
        {
          "output_type": "stream",
          "text": [
            "\n",
            "[[6. 2. 2. 6. 2.]\n",
            " [6. 6. 6. 6. 8.]\n",
            " [8. 8. 2. 2. 2.]\n",
            " [8. 8. 4. 4. 4.]\n",
            " [2. 2. 2. 6. 8.]\n",
            " [4. 8. 8. 8. 8.]\n",
            " [6. 6. 6. 6. 8.]]\n",
            "[[6. 4. 2. 8. 8. 6. 6.]\n",
            " [6. 8. 2. 8. 8. 6. 2.]\n",
            " [6. 8. 2. 4. 2. 6. 2.]\n",
            " [6. 8. 6. 4. 2. 6. 6.]\n",
            " [8. 8. 8. 4. 2. 8. 2.]]\n"
          ],
          "name": "stdout"
        }
      ]
    },
    {
      "cell_type": "code",
      "metadata": {
        "id": "itNFzsYfCKeE"
      },
      "source": [
        "def SARSA():\n",
        "  grid_x = 5\n",
        "  grid_y = 7\n",
        "  block_list = [[0,2], [1,2], [2,2], [2,4], [3,4], [4,4]]\n",
        "  env = GridWorld(grid_x, grid_y, block_list)\n",
        "  agent = Qagent(grid_x, grid_y, 4, 'sarsa')\n",
        "\n",
        "  for i in tqdm(range(10000)):\n",
        "    done = False\n",
        "  \n",
        "    s = env.reset()\n",
        "    while not done:\n",
        "      a = agent.select_action(s)\n",
        "      s_prime, r, done = env.step(a)\n",
        "      agent.update_table([(s,a,r,s_prime)])\n",
        "      s = s_prime\n",
        "      \n",
        "    agent.anneal_eps()\n",
        "\n",
        "  agent.show_table()"
      ],
      "execution_count": null,
      "outputs": []
    },
    {
      "cell_type": "code",
      "metadata": {
        "colab": {
          "base_uri": "https://localhost:8080/",
          "height": 283,
          "referenced_widgets": [
            "3d10279d01fc48a188d916b1b21f1842",
            "dd16c7c003d24053ba818e5df95cfd12",
            "803cc92b8e7f49a982f6b8313f368a82",
            "f1fbb9bfb4da4752b4ce8f89de87e17d",
            "38e4305216d74d72b1242c645a5c0df6",
            "fb8337a37c9b444780fa849e5da8cf54",
            "0ee69645f4a746f7a83c87c4efef1eca",
            "ed7be3adee0945e1a8c4e54ce6b907a3"
          ]
        },
        "id": "wAssasoQeoZI",
        "outputId": "84e88e6f-1fd4-4a58-d20e-c99ee9893ba5"
      },
      "source": [
        "SARSA()"
      ],
      "execution_count": null,
      "outputs": [
        {
          "output_type": "display_data",
          "data": {
            "application/vnd.jupyter.widget-view+json": {
              "model_id": "3d10279d01fc48a188d916b1b21f1842",
              "version_minor": 0,
              "version_major": 2
            },
            "text/plain": [
              "HBox(children=(FloatProgress(value=0.0, max=10000.0), HTML(value='')))"
            ]
          },
          "metadata": {
            "tags": []
          }
        },
        {
          "output_type": "stream",
          "text": [
            "\n",
            "[[6. 6. 6. 6. 2.]\n",
            " [6. 6. 6. 6. 8.]\n",
            " [8. 8. 2. 2. 2.]\n",
            " [8. 8. 4. 4. 4.]\n",
            " [2. 2. 2. 8. 8.]\n",
            " [6. 6. 6. 8. 8.]\n",
            " [6. 6. 6. 8. 8.]]\n",
            "[[6. 6. 2. 8. 8. 6. 6.]\n",
            " [6. 6. 2. 8. 8. 6. 6.]\n",
            " [6. 6. 2. 4. 2. 6. 6.]\n",
            " [8. 8. 8. 4. 2. 6. 6.]\n",
            " [8. 8. 8. 4. 2. 8. 2.]]\n"
          ],
          "name": "stdout"
        }
      ]
    },
    {
      "cell_type": "code",
      "metadata": {
        "id": "dRMpFarWehK4"
      },
      "source": [
        "def QLearning():\n",
        "  grid_x = 5\n",
        "  grid_y = 7\n",
        "  block_list = [[0,2], [1,2], [2,2], [2,4], [3,4], [4,4]]\n",
        "  env = GridWorld(grid_x, grid_y, block_list)\n",
        "  agent = Qagent(grid_x, grid_y, 4, 'qlearning')\n",
        "\n",
        "  for i in tqdm(range(10000)):\n",
        "    done = False\n",
        "    history = []\n",
        "  \n",
        "    s = env.reset()\n",
        "    while not done:\n",
        "      a = agent.select_action(s)\n",
        "      s_prime, r, done = env.step(a)\n",
        "      agent.update_table([(s,a,r,s_prime)])\n",
        "      s = s_prime\n",
        "    agent.anneal_eps()\n",
        "\n",
        "  agent.show_table()"
      ],
      "execution_count": null,
      "outputs": []
    },
    {
      "cell_type": "code",
      "metadata": {
        "colab": {
          "base_uri": "https://localhost:8080/",
          "height": 283,
          "referenced_widgets": [
            "cda1afc2d09e4993ba1ef767d7a4f7fc",
            "fc2b76216d864695a5889e7ee6c08032",
            "55a8d765f9644e14bea464ce4dfdbb9d",
            "bdf72a692ffa4b3783bab19e96a4d03f",
            "1468af830df5467288f05d91259d1cb9",
            "605ecd4fbf5f41b2b6270387ef426bfa",
            "5daa7eb3b70544679ee29650d6d363b4",
            "f3d8598e9e8649968a4da0c7c500d600"
          ]
        },
        "id": "HcQKFvBhex2P",
        "outputId": "e63dba1e-b718-4d02-ade3-93af5103fa69"
      },
      "source": [
        "QLearning()"
      ],
      "execution_count": null,
      "outputs": [
        {
          "output_type": "display_data",
          "data": {
            "application/vnd.jupyter.widget-view+json": {
              "model_id": "cda1afc2d09e4993ba1ef767d7a4f7fc",
              "version_minor": 0,
              "version_major": 2
            },
            "text/plain": [
              "HBox(children=(FloatProgress(value=0.0, max=10000.0), HTML(value='')))"
            ]
          },
          "metadata": {
            "tags": []
          }
        },
        {
          "output_type": "stream",
          "text": [
            "\n",
            "[[6. 6. 6. 6. 2.]\n",
            " [6. 6. 6. 6. 8.]\n",
            " [6. 8. 2. 2. 2.]\n",
            " [6. 8. 4. 4. 4.]\n",
            " [2. 2. 2. 8. 4.]\n",
            " [6. 6. 6. 8. 4.]\n",
            " [6. 6. 6. 8. 8.]]\n",
            "[[6. 6. 2. 6. 6. 6. 6.]\n",
            " [6. 6. 2. 8. 8. 6. 6.]\n",
            " [6. 6. 2. 4. 2. 6. 6.]\n",
            " [8. 8. 8. 4. 2. 6. 6.]\n",
            " [8. 4. 4. 4. 2. 8. 2.]]\n"
          ],
          "name": "stdout"
        }
      ]
    },
    {
      "cell_type": "code",
      "metadata": {
        "colab": {
          "base_uri": "https://localhost:8080/"
        },
        "id": "Tr5-hmz5tRAr",
        "outputId": "e3df5d75-b580-4118-be84-07609f697469"
      },
      "source": [
        "MCP()"
      ],
      "execution_count": null,
      "outputs": [
        {
          "output_type": "stream",
          "text": [
            "[-60.45583312994574, -58.7068948004123, -57.834527171581364, -55.27104432760525]\n",
            "[-58.36313001297977, -56.12548745599916, -51.367199359634775, -46.54291342820892]\n",
            "[-54.42082590854048, -52.580422628147126, -44.58003341471624, -31.965271802219128]\n",
            "[-50.47593972547579, -45.35002512545413, -29.336746137071888, 0.0]\n"
          ],
          "name": "stdout"
        }
      ]
    },
    {
      "cell_type": "code",
      "metadata": {
        "colab": {
          "base_uri": "https://localhost:8080/"
        },
        "id": "As8p8tq-4ME9",
        "outputId": "4a6862d1-ce2f-467b-8b42-5555f9bf6e82"
      },
      "source": [
        "TD()"
      ],
      "execution_count": null,
      "outputs": [
        {
          "output_type": "stream",
          "text": [
            "[-58.32395083199417, -56.3132411180893, -53.159072823067845, -50.61408950276734]\n",
            "[-56.42126106096235, -53.42240022443133, -48.49326596987988, -44.215838324121776]\n",
            "[-53.18629056777815, -48.47436662077926, -39.426202903500766, -28.755940968890684]\n",
            "[-50.677969781872655, -43.81782057096022, -28.960638146910778, 0]\n"
          ],
          "name": "stdout"
        }
      ]
    }
  ]
}